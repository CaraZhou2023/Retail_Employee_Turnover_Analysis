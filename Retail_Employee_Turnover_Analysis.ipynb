{
 "cells": [
  {
   "cell_type": "code",
   "execution_count": 28,
   "id": "59b7bcb4",
   "metadata": {},
   "outputs": [],
   "source": [
    "import numpy as np\n",
    "import pandas as pd\n",
    "import matplotlib.pyplot as plt\n",
    "import seaborn as sns\n",
    "import scipy.stats as stats\n",
    "from sklearn.preprocessing import LabelEncoder\n",
    "import plotly.express as px\n",
    "import warnings\n",
    "warnings.filterwarnings('ignore')"
   ]
  },
  {
   "cell_type": "markdown",
   "id": "b104f44c",
   "metadata": {},
   "source": [
    "## Import and checking data integrity\n"
   ]
  },
  {
   "cell_type": "code",
   "execution_count": 10,
   "id": "bdc83213",
   "metadata": {},
   "outputs": [],
   "source": [
    "emp = pd.read_csv('employee Data.csv')\n",
    "store = pd.read_csv('Store level data.csv')"
   ]
  },
  {
   "cell_type": "code",
   "execution_count": 11,
   "id": "e1b3385a",
   "metadata": {},
   "outputs": [
    {
     "name": "stdout",
     "output_type": "stream",
     "text": [
      "Index(['store_id', 'year', 'month', 'population', 'location_code', 'id', 'age',\n",
      "       'gender', 'race', 'marital_status', 'education', 'division', 'tenure',\n",
      "       'training_status', 'jlevel', 'salary', 'absent', 'turnover',\n",
      "       'persuasion_skills', 'commitment', 'respect', 'development', 'goal',\n",
      "       'perf_feedback', 'perf_fair', 'reward_fair', 'work_life', 'competition',\n",
      "       'culture_fit', 'extraversion', 'conscientiousness', 'emotion_stability',\n",
      "       'agreeable', 'openness', 'cognitive_ability', 'structured_interview',\n",
      "       'business_rating', 'behavior_rating', 'sales_skills'],\n",
      "      dtype='object') (8798, 39)\n",
      "Index(['store_id', 'locnearestformat', 'locnearestany', 'locimargintarget',\n",
      "       'locimarginactual', 'locomargintarget', 'locomarginactual',\n",
      "       'locrevenuetarget', 'locrevenueactual', 'Unnamed: 9',\n",
      "       'locgmargintarget', 'locgmarginactual', 'locexpensetarget',\n",
      "       'locexpenseactual', 'locebitdatarget', 'locebitdaactual', 'minwage',\n",
      "       'unemployed', 'edu14', 'year', 'month', 'yrmo', 'population',\n",
      "       'Voluntary_turnover', 'Layoff', 'Hiring', 'unitmonth_female',\n",
      "       'unitmonth_ftpt', 'unitmonth_hrlyrate', 'unitmonth_white', 'tenure',\n",
      "       'rmgrwhite', 'rmgrfemale'],\n",
      "      dtype='object') (13002, 33)\n"
     ]
    }
   ],
   "source": [
    "print(emp.columns,emp.shape)\n",
    "print(store.columns,store.shape)"
   ]
  },
  {
   "cell_type": "code",
   "execution_count": 12,
   "id": "945fa8fb",
   "metadata": {},
   "outputs": [],
   "source": [
    "#Add date coulmns\n",
    "store['date'] = pd.to_datetime(store[['year', 'month']].assign(DAY=1))\n",
    "emp['date'] = pd.to_datetime(emp[['year', 'month']].assign(DAY=1))"
   ]
  },
  {
   "cell_type": "code",
   "execution_count": 13,
   "id": "9f4ec18e",
   "metadata": {},
   "outputs": [
    {
     "data": {
      "text/plain": [
       "5910"
      ]
     },
     "execution_count": 13,
     "metadata": {},
     "output_type": "execute_result"
    }
   ],
   "source": [
    "#check missing values \n",
    "sum(emp.isnull().sum())\n",
    "sum(store.isnull().sum())"
   ]
  },
  {
   "cell_type": "code",
   "execution_count": 14,
   "id": "af1825e8",
   "metadata": {},
   "outputs": [
    {
     "data": {
      "text/plain": [
       "store_id                 0\n",
       "locnearestformat         0\n",
       "locnearestany            0\n",
       "locimargintarget         0\n",
       "locimarginactual         0\n",
       "locomargintarget         0\n",
       "locomarginactual         0\n",
       "locrevenuetarget         0\n",
       "locrevenueactual         0\n",
       "Unnamed: 9            5910\n",
       "locgmargintarget         0\n",
       "locgmarginactual         0\n",
       "locexpensetarget         0\n",
       "locexpenseactual         0\n",
       "locebitdatarget          0\n",
       "locebitdaactual          0\n",
       "minwage                  0\n",
       "unemployed               0\n",
       "edu14                    0\n",
       "year                     0\n",
       "month                    0\n",
       "yrmo                     0\n",
       "population               0\n",
       "Voluntary_turnover       0\n",
       "Layoff                   0\n",
       "Hiring                   0\n",
       "unitmonth_female         0\n",
       "unitmonth_ftpt           0\n",
       "unitmonth_hrlyrate       0\n",
       "unitmonth_white          0\n",
       "tenure                   0\n",
       "rmgrwhite                0\n",
       "rmgrfemale               0\n",
       "date                     0\n",
       "dtype: int64"
      ]
     },
     "execution_count": 14,
     "metadata": {},
     "output_type": "execute_result"
    }
   ],
   "source": [
    "#invsitigate missing values in store\n",
    "store.isnull().sum()"
   ]
  },
  {
   "cell_type": "code",
   "execution_count": 15,
   "id": "0f33a500",
   "metadata": {},
   "outputs": [],
   "source": [
    "#no relevant information in the column 'Unnamed: 9' so we can drop it\n",
    "del store['Unnamed: 9']"
   ]
  },
  {
   "cell_type": "markdown",
   "id": "1a52c06e",
   "metadata": {},
   "source": [
    "## Turnover Rate Discovery "
   ]
  },
  {
   "cell_type": "code",
   "execution_count": 16,
   "id": "35615823",
   "metadata": {},
   "outputs": [
    {
     "data": {
      "text/plain": [
       "turnover\n",
       "1    1568\n",
       "2    2348\n",
       "3    2510\n",
       "4    1663\n",
       "5     709\n",
       "Name: count, dtype: int64"
      ]
     },
     "execution_count": 16,
     "metadata": {},
     "output_type": "execute_result"
    }
   ],
   "source": [
    "# 1. How people are likely to leave the company?\n",
    "emp.turnover.value_counts().sort_index()"
   ]
  },
  {
   "cell_type": "code",
   "execution_count": 17,
   "id": "fff7e2e4",
   "metadata": {},
   "outputs": [
    {
     "data": {
      "text/plain": [
       "<Axes: title={'center': 'Voluntary Turnover over time'}, xlabel='Date', ylabel='Avg. Voluntary Turnover Rate%'>"
      ]
     },
     "execution_count": 17,
     "metadata": {},
     "output_type": "execute_result"
    },
    {
     "data": {
      "image/png": "[encoded data removed]",
      "text/plain": [
       "<Figure size 640x480 with 1 Axes>"
      ]
     },
     "metadata": {},
     "output_type": "display_data"
    }
   ],
   "source": [
    "# 2. Voluntary Turnover Rate Over Time\n",
    "store.groupby(['date']).mean()['Voluntary_turnover'].plot(xlabel='Date',ylabel='Avg. Voluntary Turnover Rate%',title='Voluntary Turnover over time')"
   ]
  },
  {
   "cell_type": "code",
   "execution_count": 18,
   "id": "629d2cdf",
   "metadata": {},
   "outputs": [],
   "source": [
    "#for better visualization in PowerPoint I exported rawdata\n",
    "pd.DataFrame(store.groupby(['date']).mean()['Voluntary_turnover']).to_csv('Voluntary_turnover.csv')"
   ]
  },
  {
   "cell_type": "markdown",
   "id": "1c2b1636",
   "metadata": {},
   "source": [
    "## Correlation - possible connection between these factors"
   ]
  },
  {
   "cell_type": "code",
   "execution_count": 30,
   "id": "5fe912d5",
   "metadata": {},
   "outputs": [],
   "source": [
    "corr_emp = emp[['age', 'gender', 'race', 'education', 'division', 'tenure',\n",
    " 'training_status', 'jlevel', 'salary', 'absent', 'commitment', 'respect',\n",
    "  'development', 'goal', 'perf_feedback', 'perf_fair', 'reward_fair', 'work_life',\n",
    "   'competition', 'culture_fit', 'persuasion_skills', 'extraversion',\n",
    "    'conscientiousness', 'emotion_stability', 'agreeable', 'openness',\n",
    "     'cognitive_ability', 'structured_interview', 'sales_skills', \n",
    "]]"
   ]
  },
  {
   "cell_type": "code",
   "execution_count": 31,
   "id": "f98757f0",
   "metadata": {},
   "outputs": [
    {
     "name": "stdout",
     "output_type": "stream",
     "text": [
      "Categorical columns: \n",
      "gender\n",
      "{'Male': 1, 'Female': 0}\n",
      "race\n",
      "{'W': 1, 'NW': 0}\n",
      "education\n",
      "{'Some college': 2, 'Post-secondary degree': 1, 'High school diploma or equivalent': 0, 'Some high school': 3}\n",
      "division\n",
      "{'Computer & Electronics': 1, 'Office Products': 3, 'Home Appliances': 2, 'Cellphones and Accessories': 0}\n",
      "training_status\n",
      "{'Y': 1, 'N': 0}\n"
     ]
    }
   ],
   "source": [
    "#convert categorical columns to numerical\n",
    "print('Categorical columns: ')\n",
    "for col in corr_emp.columns:\n",
    "    if corr_emp[col].dtype == 'object':\n",
    "        values = corr_emp[col].value_counts()\n",
    "        values = dict(values)\n",
    "        \n",
    "        print(str(col))\n",
    "        label = LabelEncoder()\n",
    "        label = label.fit(corr_emp[col])\n",
    "        corr_emp[col] = label.transform(corr_emp[col].astype(str))\n",
    "        \n",
    "        new_values = corr_emp[col].value_counts()\n",
    "        new_values = dict(new_values)\n",
    "        \n",
    "        value_dict = {}\n",
    "        i=0\n",
    "        for key in values:\n",
    "            value_dict[key] = list(new_values)[i]\n",
    "            i+= 1\n",
    "        print(value_dict)"
   ]
  },
  {
   "cell_type": "code",
   "execution_count": null,
   "id": "e45051ce",
   "metadata": {},
   "outputs": [
    {
     "data": {
      "application/vnd.plotly.v1+json": {
       "config": {
        "plotlyServerURL": "https://plot.ly"
       },
       "data": [
        {
         "coloraxis": "coloraxis",
         "hovertemplate": "x: %{x}<br>y: %{y}<br>color: %{z}<extra></extra>",
         "name": "0",
         "type": "heatmap",
         "x": [
          "age",
          "gender",
          "race",
          "education",
          "division",
          "tenure",
          "training_status",
          "jlevel",
          "salary",
          "absent",
          "commitment",
          "respect",
          "development",
          "goal",
          "perf_feedback",
          "perf_fair",
          "reward_fair",
          "work_life",
          "competition",
          "culture_fit",
          "persuasion_skills",
          "extraversion",
          "conscientiousness",
          "emotion_stability",
          "agreeable",
          "openness",
          "cognitive_ability",
          "structured_interview",
          "sales_skills"
         ],
         "xaxis": "x",
         "y": [
          "age",
          "gender",
          "race",
          "education",
          "division",
          "tenure",
          "training_status",
          "jlevel",
          "salary",
          "absent",
          "commitment",
          "respect",
          "development",
          "goal",
          "perf_feedback",
          "perf_fair",
          "reward_fair",
          "work_life",
          "competition",
          "culture_fit",
          "persuasion_skills",
          "extraversion",
          "conscientiousness",
          "emotion_stability",
          "agreeable",
          "openness",
          "cognitive_ability",
          "structured_interview",
          "sales_skills"
         ],
         "yaxis": "y",
         "z": [
          [
           1,
           -0.05034114296332459,
           -0.024360056662600073,
           -0.02788537808238904,
           -0.02640853370190047,
           0.5757177543608261,
           -0.07089595996265094,
           0.26992217643372834,
           0.23375703114224655,
           0.06220772591574674,
           0.11507367894641714,
           0.10014025036929675,
           0.08874586353593215,
           0.016097457078603352,
           0.06741656146190099,
           0.049819139667357265,
           0.022984790921363966,
           -0.047259904751817676,
           -0.03776605218518358,
           -0.07838436988247541,
           0.09072008922518593,
           0.04426787958072343,
           0.09307678157283056,
           0.27282441806358654,
           0.1898858657877803,
           0.07409499312055357,
           0.0034803512940758765,
           0.06681883428756104,
           -0.00004455126497798821
          ],
          [
           -0.05034114296332459,
           1,
           0.0690686494922378,
           0.018319215997449574,
           0.2098871708985866,
           -0.041822169254534115,
           0.12081231731702975,
           0.060387878288248875,
           0.08760854719391999,
           -0.19625565754674026,
           0.03258318465478139,
           0.029088827660790857,
           0.06348871064449557,
           -0.020311279957553906,
           0.05309757073592446,
           0.0942964834947748,
           0.14529982701640456,
           0.33010474753582236,
           -0.012028778546953054,
           -0.2112147724763466,
           0.15536881176550574,
           -0.08159723688548695,
           -0.1271882593950718,
           -0.010158997144483005,
           0.03764002199454352,
           -0.10177034373048369,
           -0.044171820778421696,
           -0.039241615078148766,
           -0.010357103156973605
          ],
          [
           -0.024360056662600073,
           0.0690686494922378,
           1,
           -0.009820795813233875,
           0.05410161317344305,
           0.07317599150090962,
           0.004266192792999074,
           0.06818370677630915,
           0.055004922764080186,
           -0.19468453778231176,
           0.08014394024658188,
           0.08592985656361711,
           0.0633930878117262,
           -0.00774063607287574,
           0.025231379590214275,
           0.099547545529732,
           0.1315290085136533,
           0.05769115945780071,
           -0.02807623839880825,
           -0.04408704067917956,
           0.1253499213386776,
           -0.047025431475499584,
           0.0692683844226791,
           0.03416844313311844,
           -0.0008272027062150346,
           -0.0049696098728318665,
           0.0014838903617863774,
           0.029547071922406968,
           0.007854996247928759
          ],
          [
           -0.02788537808238904,
           0.018319215997449574,
           -0.009820795813233875,
           1,
           0.01634531102973135,
           -0.03920164376341318,
           0.023264409446627974,
           -0.039762562452431476,
           -0.038882729342056735,
           0.016804309408603352,
           -0.06817130915715386,
           -0.010418493114476094,
           -0.015521805586227356,
           -0.0110592889706102,
           -0.014765176458706473,
           -0.008326086536640829,
           0.001595757835888236,
           0.006607790764226685,
           0.006105266205318733,
           -0.006041909109375627,
           -0.027426235866112036,
           -0.019054680495145776,
           -0.015454241110401647,
           0.01329764209304339,
           0.010245203410461338,
           -0.02744246639800799,
           0.06213416195393748,
           -0.010770108978908921,
           -0.02207250189214488
          ],
          [
           -0.02640853370190047,
           0.2098871708985866,
           0.05410161317344305,
           0.01634531102973135,
           1,
           0.02036392453675312,
           0.07090443526967753,
           0.03330570786882841,
           0.14240351465443046,
           -0.22815613378216795,
           0.03153931150960976,
           0.008242161047274784,
           0.02714347271400831,
           0.0105484677746013,
           0.009457682576871126,
           0.014180407941118845,
           0.014471402452443174,
           0.0850963552180998,
           0.07655826334763056,
           0.08982017293387443,
           -0.10159249682628049,
           0.00420402414084634,
           -0.0023524903608012726,
           -0.10231638913634879,
           -0.014176859820516604,
           -0.3193771114189945,
           -0.05466187972472341,
           0.06549737837933188,
           0.09899205343096504
          ],
          [
           0.5757177543608261,
           -0.041822169254534115,
           0.07317599150090962,
           -0.03920164376341318,
           0.02036392453675312,
           1,
           -0.07393308154206586,
           0.3069865457712928,
           0.3427430498179001,
           -0.08625421899858976,
           0.22050052423143085,
           0.14616119978470632,
           0.0921236344766214,
           0.001659470833378074,
           0.022737131796959582,
           0.052911364029551294,
           0.06294213237160827,
           -0.01094546743562995,
           -0.07080794987668974,
           -0.06354022195545123,
           0.19956188067422312,
           0.14338800283110323,
           0.13911098643710013,
           0.06844489528668672,
           0.0961792510563465,
           0.08486069743216307,
           0.05842391619754544,
           0.09014672006390506,
           -0.000143574682525784
          ],
          [
           -0.07089595996265094,
           0.12081231731702975,
           0.004266192792999074,
           0.023264409446627974,
           0.07090443526967753,
           -0.07393308154206586,
           1,
           -0.049628660386268814,
           0.04454995563359231,
           -0.08639205224150111,
           0.07159731429775612,
           0.06931141138221919,
           0.14892115276092577,
           0.03927783299448005,
           0.02764715296013865,
           0.005126307376526581,
           -0.005076604801662284,
           0.04264657772252613,
           0.02667324435571948,
           -0.05951860166291394,
           0.2604544153069416,
           0.034489513621136725,
           0.004353725626036384,
           -0.09785793203679641,
           0.6276519456786113,
           -0.2461381711304531,
           -0.023094525527349086,
           0.020629222920199527,
           -0.03636684794073759
          ],
          [
           0.26992217643372834,
           0.060387878288248875,
           0.06818370677630915,
           -0.039762562452431476,
           0.03330570786882841,
           0.3069865457712928,
           -0.049628660386268814,
           1,
           0.7184704913423721,
           -0.13391043899339203,
           0.14720179411471546,
           0.09757979132371974,
           0.11705616653892285,
           0.025361059840787296,
           0.06944674177450327,
           0.06535377955736252,
           0.09648204581374571,
           -0.0319606077221536,
           -0.02022467763871184,
           -0.10202171639657802,
           0.2728668083279416,
           0.09082582402741082,
           0.2709910020549976,
           0.10356298474805165,
           0.1271801547755534,
           0.10199462818263605,
           -0.017984167598530408,
           0.10723810743537461,
           0.006550170189545615
          ],
          [
           0.23375703114224655,
           0.08760854719391999,
           0.055004922764080186,
           -0.038882729342056735,
           0.14240351465443046,
           0.3427430498179001,
           0.04454995563359231,
           0.7184704913423721,
           1,
           -0.20483747602515587,
           0.11929812576212646,
           0.07669589626398593,
           0.06575878517307886,
           0.012575356753650657,
           0.07867279525704798,
           0.1193693500436301,
           0.1905491267540207,
           -0.05718990312065474,
           0.059251575700381316,
           -0.10544315347415555,
           0.2816273122402707,
           0.08072948467847563,
           0.08674867455398048,
           -0.08840872665992833,
           0.1258572231602667,
           0.09000599455831032,
           -0.08055108100951802,
           0.06606788711787952,
           -0.011787021989787832
          ],
          [
           0.06220772591574674,
           -0.19625565754674026,
           -0.19468453778231176,
           0.016804309408603352,
           -0.22815613378216795,
           -0.08625421899858976,
           -0.08639205224150111,
           -0.13391043899339203,
           -0.20483747602515587,
           1,
           -0.26566144289123966,
           -0.1022586353536886,
           -0.08439172484766744,
           -0.07435765228969095,
           -0.009105551554423672,
           -0.10028460556483502,
           -0.09712227511758527,
           -0.24041942645674952,
           -0.0010788394053944488,
           -0.6481290369471614,
           -0.26626902068289543,
           -0.0017069283221784505,
           -0.0024796238378541305,
           0.2548129724594965,
           0.031053293772589162,
           -0.07392989825950341,
           -0.040088766514180474,
           -0.04153512491827783,
           0.020330554738020805
          ],
          [
           0.11507367894641714,
           0.03258318465478139,
           0.08014394024658188,
           -0.06817130915715386,
           0.03153931150960976,
           0.22050052423143085,
           0.07159731429775612,
           0.14720179411471546,
           0.11929812576212646,
           -0.26566144289123966,
           1,
           0.09088175837323956,
           0.022032475523626534,
           0.016682856542791093,
           0.026552573120061172,
           0.04014045183813023,
           0.013976771408236516,
           0.17837276936604268,
           0.07074081149528465,
           0.13873148496757212,
           0.16862236461081212,
           0.009990964485735752,
           0.07091435753576583,
           -0.14612940835358573,
           0.10625794884189232,
           0.013374711337860855,
           0.1637691691287845,
           0.058749468493027715,
           -0.0010876733469751348
          ],
          [
           0.10014025036929675,
           0.029088827660790857,
           0.08592985656361711,
           -0.010418493114476094,
           0.008242161047274784,
           0.14616119978470632,
           0.06931141138221919,
           0.09757979132371974,
           0.07669589626398593,
           -0.1022586353536886,
           0.09088175837323956,
           1,
           0.05218546750558587,
           0.0057401687781836845,
           0.019068622690478487,
           0.027293485188762408,
           0.012682589389789993,
           0.021481568945049035,
           0.025530707955800782,
           -0.01258205661125575,
           0.09896342663269002,
           0.020219905249408206,
           0.02880900341065582,
           -0.07577747969496985,
           0.10881154652846334,
           -0.04510240910235995,
           -0.1976058161328538,
           0.01364042098727254,
           -0.006074190013997551
          ],
          [
           0.08874586353593215,
           0.06348871064449557,
           0.0633930878117262,
           -0.015521805586227356,
           0.02714347271400831,
           0.0921236344766214,
           0.14892115276092577,
           0.11705616653892285,
           0.06575878517307886,
           -0.08439172484766744,
           0.022032475523626534,
           0.05218546750558587,
           1,
           0.0060512492033708365,
           0.13829208675183552,
           0.030008516395358387,
           0.05003148577538805,
           0.03935398579523142,
           0.018644615592617157,
           -0.08032661998870434,
           0.11991117756034503,
           0.016476082798673033,
           0.07641247575510662,
           -0.16130737539164372,
           0.15174518422057545,
           -0.094444938589688,
           -0.25549570001465066,
           0.02575063615165493,
           -0.007453450670137661
          ],
          [
           0.016097457078603352,
           -0.020311279957553906,
           -0.00774063607287574,
           -0.0110592889706102,
           0.0105484677746013,
           0.001659470833378074,
           0.03927783299448005,
           0.025361059840787296,
           0.012575356753650657,
           -0.07435765228969095,
           0.016682856542791093,
           0.0057401687781836845,
           0.0060512492033708365,
           1,
           0.0007848614018085798,
           0.010729001337821882,
           -0.007813252556970773,
           -0.0024295956982416877,
           -0.015368489546346044,
           0.08236851234593251,
           0.04062635954094348,
           0.02384641254378383,
           0.05581066582739225,
           0.003047111807772751,
           0.059123325395094316,
           0.0071783348721958795,
           0.02351964206809649,
           0.034203132743407694,
           0.0015820745656234569
          ],
          [
           0.06741656146190099,
           0.05309757073592446,
           0.025231379590214275,
           -0.014765176458706473,
           0.009457682576871126,
           0.022737131796959582,
           0.02764715296013865,
           0.06944674177450327,
           0.07867279525704798,
           -0.009105551554423672,
           0.026552573120061172,
           0.019068622690478487,
           0.13829208675183552,
           0.0007848614018085798,
           1,
           -0.019350823332902178,
           0.08217582892015816,
           0.03190988461873452,
           0.026762328067926423,
           -0.02018554137181802,
           0.04340811446042041,
           0.08117966230026538,
           0.09749476381265147,
           0.0087749865303477,
           0.04345178736469372,
           -0.01256732951884374,
           -0.18836518309439693,
           0.05824421219765139,
           0.017087063165021284
          ],
          [
           0.049819139667357265,
           0.0942964834947748,
           0.099547545529732,
           -0.008326086536640829,
           0.014180407941118845,
           0.052911364029551294,
           0.005126307376526581,
           0.06535377955736252,
           0.1193693500436301,
           -0.10028460556483502,
           0.04014045183813023,
           0.027293485188762408,
           0.030008516395358387,
           0.010729001337821882,
           -0.019350823332902178,
           1,
           0.16259106857359534,
           0.06595474109935533,
           0.09966453392570415,
           -0.042690929063623644,
           0.10616989895405579,
           0.07004013003485428,
           0.15142074163625746,
           -0.06344860322859443,
           0.010965161629542908,
           0.03516852602581079,
           0.04947862355341223,
           0.03697317163386945,
           0.004656891066543339
          ],
          [
           0.022984790921363966,
           0.14529982701640456,
           0.1315290085136533,
           0.001595757835888236,
           0.014471402452443174,
           0.06294213237160827,
           -0.005076604801662284,
           0.09648204581374571,
           0.1905491267540207,
           -0.09712227511758527,
           0.013976771408236516,
           0.012682589389789993,
           0.05003148577538805,
           -0.007813252556970773,
           0.08217582892015816,
           0.16259106857359534,
           1,
           0.05216256697355125,
           0.09299038779813154,
           -0.18284813014586734,
           0.08158149399599077,
           0.050087777234966456,
           0.18507249635198286,
           -0.14630819297609335,
           -0.04515493369119834,
           -0.015340722719874599,
           -0.11526103151204624,
           0.015990831664934136,
           -0.0064225919618679924
          ],
          [
           -0.047259904751817676,
           0.33010474753582236,
           0.05769115945780071,
           0.006607790764226685,
           0.0850963552180998,
           -0.01094546743562995,
           0.04264657772252613,
           -0.0319606077221536,
           -0.05718990312065474,
           -0.24041942645674952,
           0.17837276936604268,
           0.021481568945049035,
           0.03935398579523142,
           -0.0024295956982416877,
           0.03190988461873452,
           0.06595474109935533,
           0.05216256697355125,
           1,
           0.009178683466192885,
           -0.0368662233164126,
           0.1435767034906782,
           0.0026777854341649403,
           0.06418431517771307,
           -0.2067370528077516,
           -0.06646789399493055,
           -0.022502371763384838,
           -0.013095358329528383,
           0.022960081032601675,
           0.011597750035494018
          ],
          [
           -0.03776605218518358,
           -0.012028778546953054,
           -0.02807623839880825,
           0.006105266205318733,
           0.07655826334763056,
           -0.07080794987668974,
           0.02667324435571948,
           -0.02022467763871184,
           0.059251575700381316,
           -0.0010788394053944488,
           0.07074081149528465,
           0.025530707955800782,
           0.018644615592617157,
           -0.015368489546346044,
           0.026762328067926423,
           0.09966453392570415,
           0.09299038779813154,
           0.009178683466192885,
           1,
           0.06932878753008177,
           0.04390030709878676,
           0.014868507998490136,
           0.07287367917665288,
           -0.12461759653213432,
           0.020891577604398956,
           0.07738290008928145,
           0.15832197918630594,
           0.05220004443827782,
           0.06041051637386428
          ],
          [
           -0.07838436988247541,
           -0.2112147724763466,
           -0.04408704067917956,
           -0.006041909109375627,
           0.08982017293387443,
           -0.06354022195545123,
           -0.05951860166291394,
           -0.10202171639657802,
           -0.10544315347415555,
           -0.6481290369471614,
           0.13873148496757212,
           -0.01258205661125575,
           -0.08032661998870434,
           0.08236851234593251,
           -0.02018554137181802,
           -0.042690929063623644,
           -0.18284813014586734,
           -0.0368662233164126,
           0.06932878753008177,
           1,
           -0.06886697818450221,
           -0.08164679914163862,
           0.0006108887011476322,
           -0.02289183082364281,
           -0.07282519948653716,
           0.08919788166717184,
           0.05715889568807814,
           0.03414087839621957,
           0.008870268956459374
          ],
          [
           0.09072008922518593,
           0.15536881176550574,
           0.1253499213386776,
           -0.027426235866112036,
           -0.10159249682628049,
           0.19956188067422312,
           0.2604544153069416,
           0.2728668083279416,
           0.2816273122402707,
           -0.26626902068289543,
           0.16862236461081212,
           0.09896342663269002,
           0.11991117756034503,
           0.04062635954094348,
           0.04340811446042041,
           0.10616989895405579,
           0.08158149399599077,
           0.1435767034906782,
           0.04390030709878676,
           -0.06886697818450221,
           1,
           0.13464517992573688,
           0.04822165524629939,
           -0.1599793742325045,
           0.25958941359453985,
           0.5189712092233039,
           0.06484570346400358,
           0.16124786326825072,
           0.0010141178504776698
          ],
          [
           0.04426787958072343,
           -0.08159723688548695,
           -0.047025431475499584,
           -0.019054680495145776,
           0.00420402414084634,
           0.14338800283110323,
           0.034489513621136725,
           0.09082582402741082,
           0.08072948467847563,
           -0.0017069283221784505,
           0.009990964485735752,
           0.020219905249408206,
           0.016476082798673033,
           0.02384641254378383,
           0.08117966230026538,
           0.07004013003485428,
           0.050087777234966456,
           0.0026777854341649403,
           0.014868507998490136,
           -0.08164679914163862,
           0.13464517992573688,
           1,
           0.005729272552055391,
           0.027630720624817647,
           0.06406397427208972,
           -0.012378729783025452,
           0.30440564001636855,
           0.15886408154114345,
           0.01350761087969203
          ],
          [
           0.09307678157283056,
           -0.1271882593950718,
           0.0692683844226791,
           -0.015454241110401647,
           -0.0023524903608012726,
           0.13911098643710013,
           0.004353725626036384,
           0.2709910020549976,
           0.08674867455398048,
           -0.0024796238378541305,
           0.07091435753576583,
           0.02880900341065582,
           0.07641247575510662,
           0.05581066582739225,
           0.09749476381265147,
           0.15142074163625746,
           0.18507249635198286,
           0.06418431517771307,
           0.07287367917665288,
           0.0006108887011476322,
           0.04822165524629939,
           0.005729272552055391,
           1,
           0.1200963823479231,
           0.1288534262745878,
           -0.06924227014818117,
           0.10786380054239354,
           0.18935136523179946,
           0.014632589942414209
          ],
          [
           0.27282441806358654,
           -0.010158997144483005,
           0.03416844313311844,
           0.01329764209304339,
           -0.10231638913634879,
           0.06844489528668672,
           -0.09785793203679641,
           0.10356298474805165,
           -0.08840872665992833,
           0.2548129724594965,
           -0.14612940835358573,
           -0.07577747969496985,
           -0.16130737539164372,
           0.003047111807772751,
           0.0087749865303477,
           -0.06344860322859443,
           -0.14630819297609335,
           -0.2067370528077516,
           -0.12461759653213432,
           -0.02289183082364281,
           -0.1599793742325045,
           0.027630720624817647,
           0.1200963823479231,
           1,
           0.16978284314374478,
           -0.09151872152081773,
           0.08027698631057631,
           0.03626971601847936,
           -0.0025997173059035344
          ],
          [
           0.1898858657877803,
           0.03764002199454352,
           -0.0008272027062150346,
           0.010245203410461338,
           -0.014176859820516604,
           0.0961792510563465,
           0.6276519456786113,
           0.1271801547755534,
           0.1258572231602667,
           0.031053293772589162,
           0.10625794884189232,
           0.10881154652846334,
           0.15174518422057545,
           0.059123325395094316,
           0.04345178736469372,
           0.010965161629542908,
           -0.04515493369119834,
           -0.06646789399493055,
           0.020891577604398956,
           -0.07282519948653716,
           0.25958941359453985,
           0.06406397427208972,
           0.1288534262745878,
           0.16978284314374478,
           1,
           -0.24651704629385454,
           0.015143482269477029,
           0.09409743359055844,
           -0.013809175070194697
          ],
          [
           0.07409499312055357,
           -0.10177034373048369,
           -0.0049696098728318665,
           -0.02744246639800799,
           -0.3193771114189945,
           0.08486069743216307,
           -0.2461381711304531,
           0.10199462818263605,
           0.09000599455831032,
           -0.07392989825950341,
           0.013374711337860855,
           -0.04510240910235995,
           -0.094444938589688,
           0.0071783348721958795,
           -0.01256732951884374,
           0.03516852602581079,
           -0.015340722719874599,
           -0.022502371763384838,
           0.07738290008928145,
           0.08919788166717184,
           0.5189712092233039,
           -0.012378729783025452,
           -0.06924227014818117,
           -0.09151872152081773,
           -0.24651704629385454,
           1,
           0.050279073938806,
           0.040617090571132976,
           0.008711309122133038
          ],
          [
           0.0034803512940758765,
           -0.044171820778421696,
           0.0014838903617863774,
           0.06213416195393748,
           -0.05466187972472341,
           0.05842391619754544,
           -0.023094525527349086,
           -0.017984167598530408,
           -0.08055108100951802,
           -0.040088766514180474,
           0.1637691691287845,
           -0.1976058161328538,
           -0.25549570001465066,
           0.02351964206809649,
           -0.18836518309439693,
           0.04947862355341223,
           -0.11526103151204624,
           -0.013095358329528383,
           0.15832197918630594,
           0.05715889568807814,
           0.06484570346400358,
           0.30440564001636855,
           0.10786380054239354,
           0.08027698631057631,
           0.015143482269477029,
           0.050279073938806,
           1,
           0.10496167452947591,
           0.0024427403749819657
          ],
          [
           0.06681883428756104,
           -0.039241615078148766,
           0.029547071922406968,
           -0.010770108978908921,
           0.06549737837933188,
           0.09014672006390506,
           0.020629222920199527,
           0.10723810743537461,
           0.06606788711787952,
           -0.04153512491827783,
           0.058749468493027715,
           0.01364042098727254,
           0.02575063615165493,
           0.034203132743407694,
           0.05824421219765139,
           0.03697317163386945,
           0.015990831664934136,
           0.022960081032601675,
           0.05220004443827782,
           0.03414087839621957,
           0.16124786326825072,
           0.15886408154114345,
           0.18935136523179946,
           0.03626971601847936,
           0.09409743359055844,
           0.040617090571132976,
           0.10496167452947591,
           1,
           0.05677522038062081
          ],
          [
           -0.00004455126497798821,
           -0.010357103156973605,
           0.007854996247928759,
           -0.02207250189214488,
           0.09899205343096504,
           -0.000143574682525784,
           -0.03636684794073759,
           0.006550170189545615,
           -0.011787021989787832,
           0.020330554738020805,
           -0.0010876733469751348,
           -0.006074190013997551,
           -0.007453450670137661,
           0.0015820745656234569,
           0.017087063165021284,
           0.004656891066543339,
           -0.0064225919618679924,
           0.011597750035494018,
           0.06041051637386428,
           0.008870268956459374,
           0.0010141178504776698,
           0.01350761087969203,
           0.014632589942414209,
           -0.0025997173059035344,
           -0.013809175070194697,
           0.008711309122133038,
           0.0024427403749819657,
           0.05677522038062081,
           1
          ]
         ]
        }
       ],
       "layout": {
        "coloraxis": {
         "colorscale": [
          [
           0,
           "#0d0887"
          ],
          [
           0.1111111111111111,
           "#46039f"
          ],
          [
           0.2222222222222222,
           "#7201a8"
          ],
          [
           0.3333333333333333,
           "#9c179e"
          ],
          [
           0.4444444444444444,
           "#bd3786"
          ],
          [
           0.5555555555555556,
           "#d8576b"
          ],
          [
           0.6666666666666666,
           "#ed7953"
          ],
          [
           0.7777777777777778,
           "#fb9f3a"
          ],
          [
           0.8888888888888888,
           "#fdca26"
          ],
          [
           1,
           "#f0f921"
          ]
         ]
        },
        "margin": {
         "t": 60
        },
        "template": {
         "data": {
          "bar": [
           {
            "error_x": {
             "color": "#2a3f5f"
            },
            "error_y": {
             "color": "#2a3f5f"
            },
            "marker": {
             "line": {
              "color": "#E5ECF6",
              "width": 0.5
             },
             "pattern": {
              "fillmode": "overlay",
              "size": 10,
              "solidity": 0.2
             }
            },
            "type": "bar"
           }
          ],
          "barpolar": [
           {
            "marker": {
             "line": {
              "color": "#E5ECF6",
              "width": 0.5
             },
             "pattern": {
              "fillmode": "overlay",
              "size": 10,
              "solidity": 0.2
             }
            },
            "type": "barpolar"
           }
          ],
          "carpet": [
           {
            "aaxis": {
             "endlinecolor": "#2a3f5f",
             "gridcolor": "white",
             "linecolor": "white",
             "minorgridcolor": "white",
             "startlinecolor": "#2a3f5f"
            },
            "baxis": {
             "endlinecolor": "#2a3f5f",
             "gridcolor": "white",
             "linecolor": "white",
             "minorgridcolor": "white",
             "startlinecolor": "#2a3f5f"
            },
            "type": "carpet"
           }
          ],
          "choropleth": [
           {
            "colorbar": {
             "outlinewidth": 0,
             "ticks": ""
            },
            "type": "choropleth"
           }
          ],
          "contour": [
           {
            "colorbar": {
             "outlinewidth": 0,
             "ticks": ""
            },
            "colorscale": [
             [
              0,
              "#0d0887"
             ],
             [
              0.1111111111111111,
              "#46039f"
             ],
             [
              0.2222222222222222,
              "#7201a8"
             ],
             [
              0.3333333333333333,
              "#9c179e"
             ],
             [
              0.4444444444444444,
              "#bd3786"
             ],
             [
              0.5555555555555556,
              "#d8576b"
             ],
             [
              0.6666666666666666,
              "#ed7953"
             ],
             [
              0.7777777777777778,
              "#fb9f3a"
             ],
             [
              0.8888888888888888,
              "#fdca26"
             ],
             [
              1,
              "#f0f921"
             ]
            ],
            "type": "contour"
           }
          ],
          "contourcarpet": [
           {
            "colorbar": {
             "outlinewidth": 0,
             "ticks": ""
            },
            "type": "contourcarpet"
           }
          ],
          "heatmap": [
           {
            "colorbar": {
             "outlinewidth": 0,
             "ticks": ""
            },
            "colorscale": [
             [
              0,
              "#0d0887"
             ],
             [
              0.1111111111111111,
              "#46039f"
             ],
             [
              0.2222222222222222,
              "#7201a8"
             ],
             [
              0.3333333333333333,
              "#9c179e"
             ],
             [
              0.4444444444444444,
              "#bd3786"
             ],
             [
              0.5555555555555556,
              "#d8576b"
             ],
             [
              0.6666666666666666,
              "#ed7953"
             ],
             [
              0.7777777777777778,
              "#fb9f3a"
             ],
             [
              0.8888888888888888,
              "#fdca26"
             ],
             [
              1,
              "#f0f921"
             ]
            ],
            "type": "heatmap"
           }
          ],
          "heatmapgl": [
           {
            "colorbar": {
             "outlinewidth": 0,
             "ticks": ""
            },
            "colorscale": [
             [
              0,
              "#0d0887"
             ],
             [
              0.1111111111111111,
              "#46039f"
             ],
             [
              0.2222222222222222,
              "#7201a8"
             ],
             [
              0.3333333333333333,
              "#9c179e"
             ],
             [
              0.4444444444444444,
              "#bd3786"
             ],
             [
              0.5555555555555556,
              "#d8576b"
             ],
             [
              0.6666666666666666,
              "#ed7953"
             ],
             [
              0.7777777777777778,
              "#fb9f3a"
             ],
             [
              0.8888888888888888,
              "#fdca26"
             ],
             [
              1,
              "#f0f921"
             ]
            ],
            "type": "heatmapgl"
           }
          ],
          "histogram": [
           {
            "marker": {
             "pattern": {
              "fillmode": "overlay",
              "size": 10,
              "solidity": 0.2
             }
            },
            "type": "histogram"
           }
          ],
          "histogram2d": [
           {
            "colorbar": {
             "outlinewidth": 0,
             "ticks": ""
            },
            "colorscale": [
             [
              0,
              "#0d0887"
             ],
             [
              0.1111111111111111,
              "#46039f"
             ],
             [
              0.2222222222222222,
              "#7201a8"
             ],
             [
              0.3333333333333333,
              "#9c179e"
             ],
             [
              0.4444444444444444,
              "#bd3786"
             ],
             [
              0.5555555555555556,
              "#d8576b"
             ],
             [
              0.6666666666666666,
              "#ed7953"
             ],
             [
              0.7777777777777778,
              "#fb9f3a"
             ],
             [
              0.8888888888888888,
              "#fdca26"
             ],
             [
              1,
              "#f0f921"
             ]
            ],
            "type": "histogram2d"
           }
          ],
          "histogram2dcontour": [
           {
            "colorbar": {
             "outlinewidth": 0,
             "ticks": ""
            },
            "colorscale": [
             [
              0,
              "#0d0887"
             ],
             [
              0.1111111111111111,
              "#46039f"
             ],
             [
              0.2222222222222222,
              "#7201a8"
             ],
             [
              0.3333333333333333,
              "#9c179e"
             ],
             [
              0.4444444444444444,
              "#bd3786"
             ],
             [
              0.5555555555555556,
              "#d8576b"
             ],
             [
              0.6666666666666666,
              "#ed7953"
             ],
             [
              0.7777777777777778,
              "#fb9f3a"
             ],
             [
              0.8888888888888888,
              "#fdca26"
             ],
             [
              1,
              "#f0f921"
             ]
            ],
            "type": "histogram2dcontour"
           }
          ],
          "mesh3d": [
           {
            "colorbar": {
             "outlinewidth": 0,
             "ticks": ""
            },
            "type": "mesh3d"
           }
          ],
          "parcoords": [
           {
            "line": {
             "colorbar": {
              "outlinewidth": 0,
              "ticks": ""
             }
            },
            "type": "parcoords"
           }
          ],
          "pie": [
           {
            "automargin": true,
            "type": "pie"
           }
          ],
          "scatter": [
           {
            "fillpattern": {
             "fillmode": "overlay",
             "size": 10,
             "solidity": 0.2
            },
            "type": "scatter"
           }
          ],
          "scatter3d": [
           {
            "line": {
             "colorbar": {
              "outlinewidth": 0,
              "ticks": ""
             }
            },
            "marker": {
             "colorbar": {
              "outlinewidth": 0,
              "ticks": ""
             }
            },
            "type": "scatter3d"
           }
          ],
          "scattercarpet": [
           {
            "marker": {
             "colorbar": {
              "outlinewidth": 0,
              "ticks": ""
             }
            },
            "type": "scattercarpet"
           }
          ],
          "scattergeo": [
           {
            "marker": {
             "colorbar": {
              "outlinewidth": 0,
              "ticks": ""
             }
            },
            "type": "scattergeo"
           }
          ],
          "scattergl": [
           {
            "marker": {
             "colorbar": {
              "outlinewidth": 0,
              "ticks": ""
             }
            },
            "type": "scattergl"
           }
          ],
          "scattermapbox": [
           {
            "marker": {
             "colorbar": {
              "outlinewidth": 0,
              "ticks": ""
             }
            },
            "type": "scattermapbox"
           }
          ],
          "scatterpolar": [
           {
            "marker": {
             "colorbar": {
              "outlinewidth": 0,
              "ticks": ""
             }
            },
            "type": "scatterpolar"
           }
          ],
          "scatterpolargl": [
           {
            "marker": {
             "colorbar": {
              "outlinewidth": 0,
              "ticks": ""
             }
            },
            "type": "scatterpolargl"
           }
          ],
          "scatterternary": [
           {
            "marker": {
             "colorbar": {
              "outlinewidth": 0,
              "ticks": ""
             }
            },
            "type": "scatterternary"
           }
          ],
          "surface": [
           {
            "colorbar": {
             "outlinewidth": 0,
             "ticks": ""
            },
            "colorscale": [
             [
              0,
              "#0d0887"
             ],
             [
              0.1111111111111111,
              "#46039f"
             ],
             [
              0.2222222222222222,
              "#7201a8"
             ],
             [
              0.3333333333333333,
              "#9c179e"
             ],
             [
              0.4444444444444444,
              "#bd3786"
             ],
             [
              0.5555555555555556,
              "#d8576b"
             ],
             [
              0.6666666666666666,
              "#ed7953"
             ],
             [
              0.7777777777777778,
              "#fb9f3a"
             ],
             [
              0.8888888888888888,
              "#fdca26"
             ],
             [
              1,
              "#f0f921"
             ]
            ],
            "type": "surface"
           }
          ],
          "table": [
           {
            "cells": {
             "fill": {
              "color": "#EBF0F8"
             },
             "line": {
              "color": "white"
             }
            },
            "header": {
             "fill": {
              "color": "#C8D4E3"
             },
             "line": {
              "color": "white"
             }
            },
            "type": "table"
           }
          ]
         },
         "layout": {
          "annotationdefaults": {
           "arrowcolor": "#2a3f5f",
           "arrowhead": 0,
           "arrowwidth": 1
          },
          "autotypenumbers": "strict",
          "coloraxis": {
           "colorbar": {
            "outlinewidth": 0,
            "ticks": ""
           }
          },
          "colorscale": {
           "diverging": [
            [
             0,
             "#8e0152"
            ],
            [
             0.1,
             "#c51b7d"
            ],
            [
             0.2,
             "#de77ae"
            ],
            [
             0.3,
             "#f1b6da"
            ],
            [
             0.4,
             "#fde0ef"
            ],
            [
             0.5,
             "#f7f7f7"
            ],
            [
             0.6,
             "#e6f5d0"
            ],
            [
             0.7,
             "#b8e186"
            ],
            [
             0.8,
             "#7fbc41"
            ],
            [
             0.9,
             "#4d9221"
            ],
            [
             1,
             "#276419"
            ]
           ],
           "sequential": [
            [
             0,
             "#0d0887"
            ],
            [
             0.1111111111111111,
             "#46039f"
            ],
            [
             0.2222222222222222,
             "#7201a8"
            ],
            [
             0.3333333333333333,
             "#9c179e"
            ],
            [
             0.4444444444444444,
             "#bd3786"
            ],
            [
             0.5555555555555556,
             "#d8576b"
            ],
            [
             0.6666666666666666,
             "#ed7953"
            ],
            [
             0.7777777777777778,
             "#fb9f3a"
            ],
            [
             0.8888888888888888,
             "#fdca26"
            ],
            [
             1,
             "#f0f921"
            ]
           ],
           "sequentialminus": [
            [
             0,
             "#0d0887"
            ],
            [
             0.1111111111111111,
             "#46039f"
            ],
            [
             0.2222222222222222,
             "#7201a8"
            ],
            [
             0.3333333333333333,
             "#9c179e"
            ],
            [
             0.4444444444444444,
             "#bd3786"
            ],
            [
             0.5555555555555556,
             "#d8576b"
            ],
            [
             0.6666666666666666,
             "#ed7953"
            ],
            [
             0.7777777777777778,
             "#fb9f3a"
            ],
            [
             0.8888888888888888,
             "#fdca26"
            ],
            [
             1,
             "#f0f921"
            ]
           ]
          },
          "colorway": [
           "#636efa",
           "#EF553B",
           "#00cc96",
           "#ab63fa",
           "#FFA15A",
           "#19d3f3",
           "#FF6692",
           "#B6E880",
           "#FF97FF",
           "#FECB52"
          ],
          "font": {
           "color": "#2a3f5f"
          },
          "geo": {
           "bgcolor": "white",
           "lakecolor": "white",
           "landcolor": "#E5ECF6",
           "showlakes": true,
           "showland": true,
           "subunitcolor": "white"
          },
          "hoverlabel": {
           "align": "left"
          },
          "hovermode": "closest",
          "mapbox": {
           "style": "light"
          },
          "paper_bgcolor": "white",
          "plot_bgcolor": "#E5ECF6",
          "polar": {
           "angularaxis": {
            "gridcolor": "white",
            "linecolor": "white",
            "ticks": ""
           },
           "bgcolor": "#E5ECF6",
           "radialaxis": {
            "gridcolor": "white",
            "linecolor": "white",
            "ticks": ""
           }
          },
          "scene": {
           "xaxis": {
            "backgroundcolor": "#E5ECF6",
            "gridcolor": "white",
            "gridwidth": 2,
            "linecolor": "white",
            "showbackground": true,
            "ticks": "",
            "zerolinecolor": "white"
           },
           "yaxis": {
            "backgroundcolor": "#E5ECF6",
            "gridcolor": "white",
            "gridwidth": 2,
            "linecolor": "white",
            "showbackground": true,
            "ticks": "",
            "zerolinecolor": "white"
           },
           "zaxis": {
            "backgroundcolor": "#E5ECF6",
            "gridcolor": "white",
            "gridwidth": 2,
            "linecolor": "white",
            "showbackground": true,
            "ticks": "",
            "zerolinecolor": "white"
           }
          },
          "shapedefaults": {
           "line": {
            "color": "#2a3f5f"
           }
          },
          "ternary": {
           "aaxis": {
            "gridcolor": "white",
            "linecolor": "white",
            "ticks": ""
           },
           "baxis": {
            "gridcolor": "white",
            "linecolor": "white",
            "ticks": ""
           },
           "bgcolor": "#E5ECF6",
           "caxis": {
            "gridcolor": "white",
            "linecolor": "white",
            "ticks": ""
           }
          },
          "title": {
           "x": 0.05
          },
          "xaxis": {
           "automargin": true,
           "gridcolor": "white",
           "linecolor": "white",
           "ticks": "",
           "title": {
            "standoff": 15
           },
           "zerolinecolor": "white",
           "zerolinewidth": 2
          },
          "yaxis": {
           "automargin": true,
           "gridcolor": "white",
           "linecolor": "white",
           "ticks": "",
           "title": {
            "standoff": 15
           },
           "zerolinecolor": "white",
           "zerolinewidth": 2
          }
         }
        },
        "xaxis": {
         "anchor": "y",
         "constrain": "domain",
         "domain": [
          0,
          1
         ],
         "scaleanchor": "y"
        },
        "yaxis": {
         "anchor": "x",
         "autorange": "reversed",
         "constrain": "domain",
         "domain": [
          0,
          1
         ]
        }
       }
      }
     },
     "metadata": {},
     "output_type": "display_data"
    }
   ],
   "source": [
    "#correlation heatmap (hover over the heatmap to see the exact correlated factors and values)\n",
    "df_corr = corr_emp.corr()\n",
    "fig = px.imshow(df_corr)\n",
    "fig.show()"
   ]
  },
  {
   "cell_type": "markdown",
   "id": "75ab1710",
   "metadata": {},
   "source": [
    "## Equity Mapping"
   ]
  },
  {
   "cell_type": "code",
   "execution_count": null,
   "id": "2fc15a4b",
   "metadata": {},
   "outputs": [],
   "source": [
    "store['rmgrwhite_n'] = 1- store['rmgrwhite']\n",
    "store['unitmonth_white_n'] = 1- store['unitmonth_white']"
   ]
  },
  {
   "cell_type": "code",
   "execution_count": null,
   "id": "d177d753",
   "metadata": {},
   "outputs": [
    {
     "data": {
      "text/plain": [
       "<matplotlib.legend.Legend at 0x1feaea89390>"
      ]
     },
     "execution_count": 15,
     "metadata": {},
     "output_type": "execute_result"
    },
    {
     "data": {
      "image/png": "[encoded data removed]",
      "text/plain": [
       "<Figure size 640x480 with 1 Axes>"
      ]
     },
     "metadata": {},
     "output_type": "display_data"
    }
   ],
   "source": [
    "ax = store.groupby(['date']).mean()[['unitmonth_female', 'unitmonth_white_n', 'rmgrfemale', 'rmgrwhite_n']].plot(xlabel='Date',ylabel='Avg. Store Share by Employee Demographic Group (%)',title='Diversity Metrics over Time')\n",
    "ax.legend(['Female_Employees%','Non-White Employees%','Female Managers%','Non-White Managers%'])"
   ]
  },
  {
   "cell_type": "markdown",
   "id": "9ff3315b",
   "metadata": {},
   "source": [
    "## Payment Equity - Visualization and T-test"
   ]
  },
  {
   "cell_type": "code",
   "execution_count": null,
   "id": "2e9c47c3",
   "metadata": {},
   "outputs": [
    {
     "data": {
      "image/png": "[encoded data removed]",
      "text/plain": [
       "<Figure size 1200x500 with 4 Axes>"
      ]
     },
     "metadata": {},
     "output_type": "display_data"
    }
   ],
   "source": [
    "# Create subplots\n",
    "fig, axes = plt.subplots(nrows=1, ncols=4, figsize=(12, 5))\n",
    "palette = {'Male': '#3498db', 'Female': '#e74c3c'}\n",
    "order = ['Male', 'Female']\n",
    "# Flatten the axes array for easy iteration\n",
    "axes = axes.flatten()\n",
    "# Initialize y-axis limits\n",
    "y_min = float('inf')\n",
    "y_max = float('-inf')\n",
    "# Iterate through each jlevel and plot a boxplot in a subplot\n",
    "for i, jlevel_value in enumerate(sorted(emp['jlevel'].unique())):\n",
    "    emp_df = emp[emp['jlevel'] == jlevel_value]\n",
    "    sns.boxplot(x='gender', y='salary', data=emp_df, ax=axes[i], palette=palette, order=order)\n",
    "    axes[i].set_title(f'jlevel = {jlevel_value}')\n",
    "    axes[i].set_xlabel('Gender')\n",
    "    axes[i].set_ylabel('Salary')\n",
    "    # Update y-axis limits based on the current subplot data\n",
    "    y_min = min(y_min, emp_df['salary'].min()-10000)\n",
    "    y_max = max(y_max, emp_df['salary'].max()+10000)\n",
    "    \n",
    "# Adjust layout\n",
    "plt.tight_layout()\n",
    "# Set common y-axis limits for all subplots\n",
    "for ax in axes:\n",
    "    ax.set_ylim(y_min, y_max)\n",
    "\n",
    "# Show the plot\n",
    "plt.show()\n"
   ]
  },
  {
   "cell_type": "code",
   "execution_count": null,
   "id": "f81d73ab",
   "metadata": {},
   "outputs": [
    {
     "name": "stdout",
     "output_type": "stream",
     "text": [
      "when job level =  1\n",
      "t-statistic: 4.106\n",
      "p-value: 4.1131381885646664e-05\n",
      "There is a significant difference in salary between male and female employees.\n",
      "when job level =  2\n",
      "t-statistic: 5.619\n",
      "p-value: 2.140756986742323e-08\n",
      "There is a significant difference in salary between male and female employees.\n",
      "when job level =  3\n",
      "t-statistic: 2.562\n",
      "p-value: 0.010562113581919315\n",
      "There is a significant difference in salary between male and female employees.\n",
      "when job level =  4\n",
      "t-statistic: 3.061\n",
      "p-value: 0.002253243094204384\n",
      "There is a significant difference in salary between male and female employees.\n"
     ]
    }
   ],
   "source": [
    "for j,group in emp.groupby('jlevel'):\n",
    "    print(\"when job level = \",j)\n",
    "    # Separate male and female salary data\n",
    "    male_salaries = group[group['gender'] == 'Male']['salary']\n",
    "    female_salaries = group[group['gender'] == 'Female']['salary']\n",
    "\n",
    "    # Perform t-test\n",
    "    t_stat, p_val = stats.ttest_ind(male_salaries, female_salaries)\n",
    "\n",
    "    # Print results\n",
    "    print(\"t-statistic:\", round(t_stat, 3))\n",
    "    print(\"p-value:\", p_val)\n",
    "\n",
    "    # Determine whether there is a significant difference based on the p-value\n",
    "    if p_val < 0.05:\n",
    "        print(\"There is a significant difference in salary between male and female employees.\")\n",
    "    else:\n",
    "        print(\"There is no significant difference in salary between male and female employees.\")\n",
    "    "
   ]
  },
  {
   "cell_type": "code",
   "execution_count": null,
   "id": "51c31781",
   "metadata": {},
   "outputs": [
    {
     "data": {
      "image/png": "[encoded data removed]",
      "text/plain": [
       "<Figure size 1200x500 with 4 Axes>"
      ]
     },
     "metadata": {},
     "output_type": "display_data"
    }
   ],
   "source": [
    "# Create subplots\n",
    "fig, axes = plt.subplots(nrows=1, ncols=4, figsize=(12, 5))\n",
    "palette = {'W': '#3498db', 'NW': '#e74c3c'}\n",
    "order = ['W', 'NW']\n",
    "# Flatten the axes array for easy iteration\n",
    "axes = axes.flatten()\n",
    "# Initialize y-axis limits\n",
    "y_min = float('inf')\n",
    "y_max = float('-inf')\n",
    "# Iterate through each jlevel and plot a boxplot in a subplot\n",
    "for i, jlevel_value in enumerate(sorted(emp['jlevel'].unique())):\n",
    "    emp_df = emp[emp['jlevel'] == jlevel_value]\n",
    "    sns.boxplot(x='race', y='salary', data=emp_df, ax=axes[i], palette=palette, order=order)\n",
    "    axes[i].set_title(f'job_level = {jlevel_value}')\n",
    "    axes[i].set_xlabel('Race')\n",
    "    axes[i].set_ylabel('Salary')\n",
    "    # Update y-axis limits based on the current subplot data\n",
    "    y_min = min(y_min, emp_df['salary'].min()-10000)\n",
    "    y_max = max(y_max, emp_df['salary'].max()+10000)\n",
    "    \n",
    "# Adjust layout\n",
    "plt.tight_layout()\n",
    "# Set common y-axis limits for all subplots\n",
    "for ax in axes:\n",
    "    ax.set_ylim(y_min, y_max)\n",
    "\n",
    "# Show the plot\n",
    "plt.show()\n"
   ]
  },
  {
   "cell_type": "code",
   "execution_count": null,
   "id": "858c4cc4",
   "metadata": {},
   "outputs": [
    {
     "name": "stdout",
     "output_type": "stream",
     "text": [
      "when job level =  1\n",
      "t-statistic: 1.768\n",
      "p-value: 0.0770586277321406\n",
      "There is no significant difference in salary between white and non-white employees.\n",
      "when job level =  2\n",
      "t-statistic: -0.8\n",
      "p-value: 0.4239146030746467\n",
      "There is no significant difference in salary between white and non-white employees.\n",
      "when job level =  3\n",
      "t-statistic: 1.582\n",
      "p-value: 0.11408725244904637\n",
      "There is no significant difference in salary between white and non-white employees.\n",
      "when job level =  4\n",
      "t-statistic: 0.807\n",
      "p-value: 0.41991634789591803\n",
      "There is no significant difference in salary between white and non-white employees.\n"
     ]
    }
   ],
   "source": [
    "for j,group in emp.groupby('jlevel'):\n",
    "    print(\"when job level = \",j)\n",
    "    # Separate male and female salary data\n",
    "    w_salaries = group[group['race'] == 'W']['salary']\n",
    "    non_w_salaries = group[group['race'] == 'NW']['salary']\n",
    "\n",
    "    # Perform t-test\n",
    "    t_stat, p_val = stats.ttest_ind(w_salaries, non_w_salaries)\n",
    "\n",
    "    # Print results\n",
    "    print(\"t-statistic:\", round(t_stat, 3))\n",
    "    print(\"p-value:\", p_val)\n",
    "\n",
    "    # Determine whether there is a significant difference based on the p-value\n",
    "    if p_val < 0.05:\n",
    "        print(\"There is a significant difference in salary between white and non-white employees.\")\n",
    "    else:\n",
    "        print(\"There is no significant difference in salary between white and non-white employees.\")\n",
    "    "
   ]
  }
 ],
 "metadata": {
  "kernelspec": {
   "display_name": "base",
   "language": "python",
   "name": "python3"
  },
  "language_info": {
   "codemirror_mode": {
    "name": "ipython",
    "version": 3
   },
   "file_extension": ".py",
   "mimetype": "text/x-python",
   "name": "python",
   "nbconvert_exporter": "python",
   "pygments_lexer": "ipython3",
   "version": "3.11.5"
  }
 },
 "nbformat": 4,
 "nbformat_minor": 5
}
